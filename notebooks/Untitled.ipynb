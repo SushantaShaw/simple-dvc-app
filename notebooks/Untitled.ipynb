{
 "cells": [
  {
   "cell_type": "code",
   "execution_count": 1,
   "id": "4c7880b4-df1c-4ff0-8565-c9f682bda75d",
   "metadata": {
    "tags": []
   },
   "outputs": [
    {
     "data": {
      "text/plain": [
       "'notebooks\\\\schema.json'"
      ]
     },
     "execution_count": 1,
     "metadata": {},
     "output_type": "execute_result"
    }
   ],
   "source": [
    "import pandas as pd\n",
    "import sys\n",
    "\n",
    "sys.path.append(\"..\")\n",
    "import os\n",
    "\n",
    "os.path.join(\"notebooks\", \"schema.json\")"
   ]
  },
  {
   "cell_type": "code",
   "execution_count": 2,
   "id": "24552389-b5a8-4691-b4be-7282f0d7f39b",
   "metadata": {
    "tags": []
   },
   "outputs": [],
   "source": [
    "data = pd.read_csv(\"../data/processed/train_winequality.csv\")"
   ]
  },
  {
   "cell_type": "code",
   "execution_count": 3,
   "id": "a854c9d9-7628-45da-9e49-98ac57252ca5",
   "metadata": {
    "tags": []
   },
   "outputs": [
    {
     "data": {
      "text/html": [
       "<div>\n",
       "<style scoped>\n",
       "    .dataframe tbody tr th:only-of-type {\n",
       "        vertical-align: middle;\n",
       "    }\n",
       "\n",
       "    .dataframe tbody tr th {\n",
       "        vertical-align: top;\n",
       "    }\n",
       "\n",
       "    .dataframe thead th {\n",
       "        text-align: right;\n",
       "    }\n",
       "</style>\n",
       "<table border=\"1\" class=\"dataframe\">\n",
       "  <thead>\n",
       "    <tr style=\"text-align: right;\">\n",
       "      <th></th>\n",
       "      <th>fixed_acidity</th>\n",
       "      <th>volatile_acidity</th>\n",
       "      <th>citric_acid</th>\n",
       "      <th>residual_sugar</th>\n",
       "      <th>chlorides</th>\n",
       "      <th>free_sulfur_dioxide</th>\n",
       "      <th>total_sulfur_dioxide</th>\n",
       "      <th>density</th>\n",
       "      <th>pH</th>\n",
       "      <th>sulphates</th>\n",
       "      <th>alcohol</th>\n",
       "    </tr>\n",
       "  </thead>\n",
       "  <tbody>\n",
       "    <tr>\n",
       "      <th>0</th>\n",
       "      <td>6.1</td>\n",
       "      <td>0.43</td>\n",
       "      <td>0.35</td>\n",
       "      <td>9.1</td>\n",
       "      <td>0.059</td>\n",
       "      <td>83.0</td>\n",
       "      <td>249.0</td>\n",
       "      <td>0.9971</td>\n",
       "      <td>3.37</td>\n",
       "      <td>0.5</td>\n",
       "      <td>8.5</td>\n",
       "    </tr>\n",
       "  </tbody>\n",
       "</table>\n",
       "</div>"
      ],
      "text/plain": [
       "   fixed_acidity  volatile_acidity  citric_acid  residual_sugar  chlorides  \\\n",
       "0            6.1              0.43         0.35             9.1      0.059   \n",
       "\n",
       "   free_sulfur_dioxide  total_sulfur_dioxide  density    pH  sulphates  \\\n",
       "0                 83.0                 249.0   0.9971  3.37        0.5   \n",
       "\n",
       "   alcohol  \n",
       "0      8.5  "
      ]
     },
     "execution_count": 3,
     "metadata": {},
     "output_type": "execute_result"
    }
   ],
   "source": [
    "pd.DataFrame(data.iloc[0, 1:-1].to_dict(), index=[0])"
   ]
  },
  {
   "cell_type": "code",
   "execution_count": 4,
   "id": "375706f8-74d6-4717-92a2-39907011853b",
   "metadata": {
    "tags": []
   },
   "outputs": [],
   "source": [
    "data.iloc[0, 1:-1].to_json(\"schema.json\", indent=4)"
   ]
  },
  {
   "cell_type": "code",
   "execution_count": 5,
   "id": "c58e0b89-c6ae-43fd-acea-75b5dbc86bf9",
   "metadata": {
    "tags": []
   },
   "outputs": [],
   "source": [
    "from prediction_service.prediction import api_response\n",
    "\n",
    "# import prediction_service\n",
    "\n",
    "input_data = {\n",
    "    \"incorrect_range\": {\n",
    "        \"fixed_acidity\": 7897897,\n",
    "        \"volatile_acidity\": 555,\n",
    "        \"citric_acid\": 99,\n",
    "        \"residual_sugar\": 99,\n",
    "        \"chlorides\": 12,\n",
    "        \"free_sulfur_dioxide\": 789,\n",
    "        \"total_sulfur_dioxide\": 75,\n",
    "        \"density\": 2,\n",
    "        \"pH\": 33,\n",
    "        \"sulphates\": 9,\n",
    "        \"alcohol\": 9,\n",
    "    },\n",
    "    \"correct_range\": {\n",
    "        \"fixed_acidity\": 5,\n",
    "        \"volatile_acidity\": 1,\n",
    "        \"citric_acid\": 0.5,\n",
    "        \"residual_sugar\": 10,\n",
    "        \"chlorides\": 0.5,\n",
    "        \"free_sulfur_dioxide\": 3,\n",
    "        \"total_sulfur_dioxide\": 75,\n",
    "        \"density\": 1,\n",
    "        \"pH\": 3,\n",
    "        \"sulphates\": 1,\n",
    "        \"alcohol\": 9,\n",
    "    },\n",
    "    \"incorrect_col\": {\n",
    "        \"fixed acidity\": 5,\n",
    "        \"volatile acidity\": 1,\n",
    "        \"citric acid\": 0.5,\n",
    "        \"residual sugar\": 10,\n",
    "        \"chlorides\": 0.5,\n",
    "        \"free sulfur dioxide\": 3,\n",
    "        \"total_sulfur dioxide\": 75,\n",
    "        \"density\": 1,\n",
    "        \"pH\": 3,\n",
    "        \"sulphates\": 1,\n",
    "        \"alcohol\": 9,\n",
    "    },\n",
    "}\n",
    "\n",
    "TARGET_range = {\"min\": 3.0, \"max\": 8.0}\n",
    "\n",
    "\n",
    "def test_api_response_correct_range(data=input_data[\"correct_range\"]):\n",
    "    res = api_response(data)\n",
    "    assert TARGET_range[\"min\"] <= res[\"response\"] <= TARGET_range[\"max\"]\n",
    "\n",
    "\n",
    "# def test_api_response_incorrect_range(data=input_data[\"incorrect_range\"]):\n",
    "#     res = api_response(data)\n",
    "#     assert res[\"response\"] == prediction_service.prediction.NotInRange().message\n",
    "\n",
    "# def test_api_response_incorrect_col(data=input_data[\"incorrect_col\"]):\n",
    "#     res = api_response(data)\n",
    "#     assert res[\"response\"] == prediction_service.prediction.ColumnNotFound().message"
   ]
  },
  {
   "cell_type": "code",
   "execution_count": 6,
   "id": "35e4b663-899b-4bed-8e02-b24e9efbd43e",
   "metadata": {
    "tags": []
   },
   "outputs": [
    {
     "ename": "FileNotFoundError",
     "evalue": "[Errno 2] No such file or directory: 'notebooks\\\\schema.json'",
     "output_type": "error",
     "traceback": [
      "\u001b[1;31m---------------------------------------------------------------------------\u001b[0m",
      "\u001b[1;31mFileNotFoundError\u001b[0m                         Traceback (most recent call last)",
      "Cell \u001b[1;32mIn[6], line 1\u001b[0m\n\u001b[1;32m----> 1\u001b[0m test_api_response_correct_range()\n",
      "Cell \u001b[1;32mIn[5], line 51\u001b[0m, in \u001b[0;36mtest_api_response_correct_range\u001b[1;34m(data)\u001b[0m\n\u001b[0;32m     50\u001b[0m \u001b[38;5;28;01mdef\u001b[39;00m \u001b[38;5;21mtest_api_response_correct_range\u001b[39m(data\u001b[38;5;241m=\u001b[39minput_data[\u001b[38;5;124m\"\u001b[39m\u001b[38;5;124mcorrect_range\u001b[39m\u001b[38;5;124m\"\u001b[39m]):\n\u001b[1;32m---> 51\u001b[0m     res \u001b[38;5;241m=\u001b[39m api_response(data)\n\u001b[0;32m     52\u001b[0m     \u001b[38;5;28;01massert\u001b[39;00m TARGET_range[\u001b[38;5;124m\"\u001b[39m\u001b[38;5;124mmin\u001b[39m\u001b[38;5;124m\"\u001b[39m] \u001b[38;5;241m<\u001b[39m\u001b[38;5;241m=\u001b[39m res[\u001b[38;5;124m\"\u001b[39m\u001b[38;5;124mresponse\u001b[39m\u001b[38;5;124m\"\u001b[39m] \u001b[38;5;241m<\u001b[39m\u001b[38;5;241m=\u001b[39m TARGET_range[\u001b[38;5;124m\"\u001b[39m\u001b[38;5;124mmax\u001b[39m\u001b[38;5;124m\"\u001b[39m]\n",
      "File \u001b[1;32mD:\\projects\\mlops\\notebooks\\..\\prediction_service\\prediction.py:68\u001b[0m, in \u001b[0;36mapi_response\u001b[1;34m(data)\u001b[0m\n\u001b[0;32m     66\u001b[0m \u001b[38;5;28;01mdef\u001b[39;00m \u001b[38;5;21mapi_response\u001b[39m(data):\n\u001b[0;32m     67\u001b[0m     \u001b[38;5;28;01mtry\u001b[39;00m:\n\u001b[1;32m---> 68\u001b[0m         \u001b[38;5;28;01mif\u001b[39;00m validation(data):\n\u001b[0;32m     69\u001b[0m             response \u001b[38;5;241m=\u001b[39m predict(data)\n\u001b[0;32m     70\u001b[0m             \u001b[38;5;28;01mreturn\u001b[39;00m response\n",
      "File \u001b[1;32mD:\\projects\\mlops\\notebooks\\..\\prediction_service\\prediction.py:60\u001b[0m, in \u001b[0;36mvalidation\u001b[1;34m(data)\u001b[0m\n\u001b[0;32m     57\u001b[0m             \u001b[38;5;28;01mraise\u001b[39;00m MissingColumns\n\u001b[0;32m     59\u001b[0m \u001b[38;5;28;01mfor\u001b[39;00m col \u001b[38;5;129;01min\u001b[39;00m data\u001b[38;5;241m.\u001b[39mkeys():\n\u001b[1;32m---> 60\u001b[0m     _column_validation(col)\n\u001b[0;32m     62\u001b[0m _column_missing_check()\n\u001b[0;32m     63\u001b[0m \u001b[38;5;28;01mreturn\u001b[39;00m \u001b[38;5;28;01mTrue\u001b[39;00m\n",
      "File \u001b[1;32mD:\\projects\\mlops\\notebooks\\..\\prediction_service\\prediction.py:49\u001b[0m, in \u001b[0;36mvalidation.<locals>._column_validation\u001b[1;34m(col)\u001b[0m\n\u001b[0;32m     48\u001b[0m \u001b[38;5;28;01mdef\u001b[39;00m \u001b[38;5;21m_column_validation\u001b[39m(col):\n\u001b[1;32m---> 49\u001b[0m     schema \u001b[38;5;241m=\u001b[39m get_schema()\n\u001b[0;32m     50\u001b[0m     \u001b[38;5;28;01mif\u001b[39;00m col \u001b[38;5;129;01mnot\u001b[39;00m \u001b[38;5;129;01min\u001b[39;00m \u001b[38;5;28mlist\u001b[39m(schema\u001b[38;5;241m.\u001b[39mkeys()):\n\u001b[0;32m     51\u001b[0m         \u001b[38;5;28;01mraise\u001b[39;00m ColumnNotFound\n",
      "File \u001b[1;32mD:\\projects\\mlops\\notebooks\\..\\prediction_service\\prediction.py:42\u001b[0m, in \u001b[0;36mget_schema\u001b[1;34m(schema_path)\u001b[0m\n\u001b[0;32m     41\u001b[0m \u001b[38;5;28;01mdef\u001b[39;00m \u001b[38;5;21mget_schema\u001b[39m(schema_path\u001b[38;5;241m=\u001b[39mos\u001b[38;5;241m.\u001b[39mpath\u001b[38;5;241m.\u001b[39mjoin(\u001b[38;5;124m\"\u001b[39m\u001b[38;5;124mnotebooks\u001b[39m\u001b[38;5;124m\"\u001b[39m,\u001b[38;5;124m\"\u001b[39m\u001b[38;5;124mschema.json\u001b[39m\u001b[38;5;124m\"\u001b[39m)):\n\u001b[1;32m---> 42\u001b[0m     \u001b[38;5;28;01mwith\u001b[39;00m \u001b[38;5;28mopen\u001b[39m(schema_path) \u001b[38;5;28;01mas\u001b[39;00m json_file:\n\u001b[0;32m     43\u001b[0m         schema \u001b[38;5;241m=\u001b[39m json\u001b[38;5;241m.\u001b[39mload(json_file)\n\u001b[0;32m     44\u001b[0m     \u001b[38;5;28;01mreturn\u001b[39;00m schema\n",
      "\u001b[1;31mFileNotFoundError\u001b[0m: [Errno 2] No such file or directory: 'notebooks\\\\schema.json'"
     ]
    }
   ],
   "source": [
    "test_api_response_correct_range()"
   ]
  }
 ],
 "metadata": {
  "kernelspec": {
   "display_name": "Python 3 (ipykernel)",
   "language": "python",
   "name": "python3"
  },
  "language_info": {
   "codemirror_mode": {
    "name": "ipython",
    "version": 3
   },
   "file_extension": ".py",
   "mimetype": "text/x-python",
   "name": "python",
   "nbconvert_exporter": "python",
   "pygments_lexer": "ipython3",
   "version": "3.11.5"
  }
 },
 "nbformat": 4,
 "nbformat_minor": 5
}
